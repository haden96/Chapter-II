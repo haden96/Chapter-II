{
  "nbformat": 4,
  "nbformat_minor": 0,
  "metadata": {
    "colab": {
      "name": "Untitled1.ipynb",
      "provenance": [],
      "collapsed_sections": []
    },
    "kernelspec": {
      "name": "python3",
      "display_name": "Python 3"
    }
  },
  "cells": [
    {
      "cell_type": "markdown",
      "metadata": {
        "id": "N_mgVwZsLRLD",
        "colab_type": "text"
      },
      "source": [
        "#Checkerboard"
      ]
    },
    {
      "cell_type": "code",
      "metadata": {
        "id": "5IEMGd982uaJ",
        "colab_type": "code",
        "colab": {}
      },
      "source": [
        "import numpy as np\n",
        "import matplotlib.pyplot as plt"
      ],
      "execution_count": 0,
      "outputs": []
    },
    {
      "cell_type": "code",
      "metadata": {
        "id": "bUF2Vpz2_s0Z",
        "colab_type": "code",
        "colab": {}
      },
      "source": [
        "no_channels=3\n",
        "rgb_values=[0,255,255]\n",
        "squere=np.ones([100,100])\n",
        "checkerboard_size=[8,8]"
      ],
      "execution_count": 0,
      "outputs": []
    },
    {
      "cell_type": "markdown",
      "metadata": {
        "id": "o9zj7GlULikp",
        "colab_type": "text"
      },
      "source": [
        "#### Creating smaller version of checkerboard"
      ]
    },
    {
      "cell_type": "code",
      "metadata": {
        "id": "gkHW5OVp26SV",
        "colab_type": "code",
        "colab": {
          "base_uri": "https://localhost:8080/",
          "height": 318
        },
        "outputId": "bb9f584b-4471-4f45-ac58-a9076e7eafec"
      },
      "source": [
        "x=np.indices(checkerboard_size)\n",
        "x"
      ],
      "execution_count": 3,
      "outputs": [
        {
          "output_type": "execute_result",
          "data": {
            "text/plain": [
              "array([[[0, 0, 0, 0, 0, 0, 0, 0],\n",
              "        [1, 1, 1, 1, 1, 1, 1, 1],\n",
              "        [2, 2, 2, 2, 2, 2, 2, 2],\n",
              "        [3, 3, 3, 3, 3, 3, 3, 3],\n",
              "        [4, 4, 4, 4, 4, 4, 4, 4],\n",
              "        [5, 5, 5, 5, 5, 5, 5, 5],\n",
              "        [6, 6, 6, 6, 6, 6, 6, 6],\n",
              "        [7, 7, 7, 7, 7, 7, 7, 7]],\n",
              "\n",
              "       [[0, 1, 2, 3, 4, 5, 6, 7],\n",
              "        [0, 1, 2, 3, 4, 5, 6, 7],\n",
              "        [0, 1, 2, 3, 4, 5, 6, 7],\n",
              "        [0, 1, 2, 3, 4, 5, 6, 7],\n",
              "        [0, 1, 2, 3, 4, 5, 6, 7],\n",
              "        [0, 1, 2, 3, 4, 5, 6, 7],\n",
              "        [0, 1, 2, 3, 4, 5, 6, 7],\n",
              "        [0, 1, 2, 3, 4, 5, 6, 7]]])"
            ]
          },
          "metadata": {
            "tags": []
          },
          "execution_count": 3
        }
      ]
    },
    {
      "cell_type": "code",
      "metadata": {
        "id": "-NSl2U4M5Jhq",
        "colab_type": "code",
        "colab": {
          "base_uri": "https://localhost:8080/",
          "height": 158
        },
        "outputId": "6eaf7e72-58eb-478a-d997-44d09e59a318"
      },
      "source": [
        "checkerboard=x.sum(axis=0) % 2\n",
        "checkerboard"
      ],
      "execution_count": 4,
      "outputs": [
        {
          "output_type": "execute_result",
          "data": {
            "text/plain": [
              "array([[0, 1, 0, 1, 0, 1, 0, 1],\n",
              "       [1, 0, 1, 0, 1, 0, 1, 0],\n",
              "       [0, 1, 0, 1, 0, 1, 0, 1],\n",
              "       [1, 0, 1, 0, 1, 0, 1, 0],\n",
              "       [0, 1, 0, 1, 0, 1, 0, 1],\n",
              "       [1, 0, 1, 0, 1, 0, 1, 0],\n",
              "       [0, 1, 0, 1, 0, 1, 0, 1],\n",
              "       [1, 0, 1, 0, 1, 0, 1, 0]])"
            ]
          },
          "metadata": {
            "tags": []
          },
          "execution_count": 4
        }
      ]
    },
    {
      "cell_type": "markdown",
      "metadata": {
        "id": "ViUgofCmLybB",
        "colab_type": "text"
      },
      "source": [
        "#### Expanding square shape"
      ]
    },
    {
      "cell_type": "code",
      "metadata": {
        "id": "ZLWKfEkJ5PwS",
        "colab_type": "code",
        "colab": {
          "base_uri": "https://localhost:8080/",
          "height": 34
        },
        "outputId": "74d611cf-0c1e-4142-f5a4-7cb539124fc3"
      },
      "source": [
        "checkerboard=np.kron(checkerboard,squere)\n",
        "print(checkerboard.shape)"
      ],
      "execution_count": 5,
      "outputs": [
        {
          "output_type": "stream",
          "text": [
            "(800, 800)\n"
          ],
          "name": "stdout"
        }
      ]
    },
    {
      "cell_type": "markdown",
      "metadata": {
        "id": "x-SjrbsMMNtp",
        "colab_type": "text"
      },
      "source": [
        "#### Adding RGB channels"
      ]
    },
    {
      "cell_type": "code",
      "metadata": {
        "id": "TtsVBmNdE8GL",
        "colab_type": "code",
        "colab": {}
      },
      "source": [
        "result=np.stack((checkerboard,)*no_channels, axis=-1)*rgb_values"
      ],
      "execution_count": 0,
      "outputs": []
    },
    {
      "cell_type": "code",
      "metadata": {
        "id": "59YdFoZXJNoO",
        "colab_type": "code",
        "colab": {
          "base_uri": "https://localhost:8080/",
          "height": 304
        },
        "outputId": "ff426346-a26a-4f11-dbe1-b0c340ca10d1"
      },
      "source": [
        "plt.imshow(result)"
      ],
      "execution_count": 7,
      "outputs": [
        {
          "output_type": "stream",
          "text": [
            "Clipping input data to the valid range for imshow with RGB data ([0..1] for floats or [0..255] for integers).\n"
          ],
          "name": "stderr"
        },
        {
          "output_type": "execute_result",
          "data": {
            "text/plain": [
              "<matplotlib.image.AxesImage at 0x7fdb0dd82358>"
            ]
          },
          "metadata": {
            "tags": []
          },
          "execution_count": 7
        },
        {
          "output_type": "display_data",
          "data": {
            "image/png": "[encoded data removed]",
            "text/plain": [
              "<Figure size 432x288 with 1 Axes>"
            ]
          },
          "metadata": {
            "tags": [],
            "needs_background": "light"
          }
        }
      ]
    },
    {
      "cell_type": "code",
      "metadata": {
        "id": "F_8g4M58MunB",
        "colab_type": "code",
        "colab": {}
      },
      "source": [
        ""
      ],
      "execution_count": 0,
      "outputs": []
    }
  ]
}